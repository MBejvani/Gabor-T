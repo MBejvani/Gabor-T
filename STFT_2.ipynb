{
 "cells": [
  {
   "cell_type": "code",
   "execution_count": 1,
   "metadata": {},
   "outputs": [],
   "source": [
    "# @author: Bj"
   ]
  },
  {
   "cell_type": "code",
   "execution_count": 4,
   "metadata": {},
   "outputs": [],
   "source": [
    "from numpy import *\n",
    "import scipy,pylab"
   ]
  },
  {
   "cell_type": "code",
   "execution_count": 5,
   "metadata": {},
   "outputs": [],
   "source": [
    "#save('stft_sig',s,dt)\n",
    "s = load('stft_sig.npy');dt = load('dt.npy');\n",
    "s = s.T;   s = s[0];   n = len(s)\n",
    "t = dt*linspace(0,n-1,n)\n",
    "f = linspace(0,1/(2*dt),n//2)\n",
    "fn = 1/(2*dt)\n",
    "df = f[4]-f[3]\n",
    "sd_max = max(t)/2/pi/df\n",
    "sd_min = dt**2/pi\n",
    "def AB_STF(s,dt,sd):\n",
    "    n = len(s)\n",
    "    t = dt*linspace(0,n-1,n)\n",
    "    TF = []\n",
    "    for i in range(n):\n",
    "        if shape(sd)==():\n",
    "            sdd = sd\n",
    "        else:\n",
    "            sdd = sd[i]\n",
    "        w = 1/(sqrt(2*pi)*sdd) * exp(-1/2*((t-t[i])/sdd)**2)\n",
    "        TF.append(scipy.fft(s*w))\n",
    "    ATF = absolute(TF)\n",
    "    ATF = ATF[:,n//2:]\n",
    "    return  ATF\n",
    "\n",
    "sdl = arange(sd_min,sd_max,sd_max/30)\n",
    "CF = []\n",
    "for sd in sdl:\n",
    "    ATF = AB_STF(s,dt,sd)\n",
    "    ATF = log(ATF+0.001)\n",
    "    CFi = []\n",
    "    m=20\n",
    "    for i in range(n):\n",
    "        a = i-m\n",
    "        b = i+m\n",
    "        if i<m:\n",
    "            a = 0\n",
    "        if i>n-m:\n",
    "            b = n\n",
    "        CFi.append(sum(ATF[a:b,:]))\n",
    "    CF.append(CFi)\n",
    "CF = array(CF)\n",
    "sd_opt = []\n",
    "sd_in_fig = []\n",
    "for i in range(n):\n",
    "    CFy = CF[:,i]\n",
    "    CFy = list(CFy)\n",
    "    sd_in = CFy.index(min(CFy))\n",
    "    sd_in_fig.append(sd_in)\n",
    "    sd_opt.append(sdl[sd_in])\n",
    "\n",
    "TT = AB_STF(s,dt,sd_opt) #0.002*ones([n,1])\n",
    "#TT = array(TT).transpose() # axis r wrong - esp==>for instantaneous"
   ]
  },
  {
   "cell_type": "code",
   "execution_count": 2,
   "metadata": {},
   "outputs": [
    {
     "ename": "NameError",
     "evalue": "name 'pylab' is not defined",
     "output_type": "error",
     "traceback": [
      "\u001b[1;31m---------------------------------------------------------------------------\u001b[0m",
      "\u001b[1;31mNameError\u001b[0m                                 Traceback (most recent call last)",
      "\u001b[1;32m<ipython-input-2-f12d5c8191c1>\u001b[0m in \u001b[0;36m<module>\u001b[1;34m\u001b[0m\n\u001b[1;32m----> 1\u001b[1;33m \u001b[0mpylab\u001b[0m\u001b[1;33m.\u001b[0m\u001b[0mfigure\u001b[0m\u001b[1;33m(\u001b[0m\u001b[1;33m)\u001b[0m\u001b[1;33m\u001b[0m\u001b[1;33m\u001b[0m\u001b[0m\n\u001b[0m\u001b[0;32m      2\u001b[0m pylab.imshow(TT, origin='lower', aspect='auto',\n\u001b[0;32m      3\u001b[0m              interpolation='nearest')\n\u001b[0;32m      4\u001b[0m \u001b[0mpylab\u001b[0m\u001b[1;33m.\u001b[0m\u001b[0mfigure\u001b[0m\u001b[1;33m(\u001b[0m\u001b[1;33m)\u001b[0m\u001b[1;33m\u001b[0m\u001b[1;33m\u001b[0m\u001b[0m\n\u001b[0;32m      5\u001b[0m \u001b[0mpylab\u001b[0m\u001b[1;33m.\u001b[0m\u001b[0msubplot\u001b[0m\u001b[1;33m(\u001b[0m\u001b[1;36m121\u001b[0m\u001b[1;33m)\u001b[0m\u001b[1;33m\u001b[0m\u001b[1;33m\u001b[0m\u001b[0m\n",
      "\u001b[1;31mNameError\u001b[0m: name 'pylab' is not defined"
     ]
    }
   ],
   "source": [
    "pylab.figure()\n",
    "pylab.imshow(TT, origin='lower', aspect='auto',\n",
    "             interpolation='nearest')\n",
    "pylab.figure()\n",
    "pylab.subplot(121)\n",
    "pylab.imshow(CF, origin='lower', aspect='auto',interpolation='nearest')\n",
    "pylab.subplot(122)\n",
    "pylab.plot(sd_in_fig)\n",
    "pylab.show()\n",
    "# sd=1/2pi/f'_ins ==> max_sd = t_max/2pi/df & min_sd = dt/2pi/fn\n",
    "#sd_opt,sd_max,sd_min,mean([sd_max,sd_min])"
   ]
  },
  {
   "cell_type": "code",
   "execution_count": null,
   "metadata": {},
   "outputs": [],
   "source": []
  }
 ],
 "metadata": {
  "kernelspec": {
   "display_name": "Python 3",
   "language": "python",
   "name": "python3"
  },
  "language_info": {
   "codemirror_mode": {
    "name": "ipython",
    "version": 3
   },
   "file_extension": ".py",
   "mimetype": "text/x-python",
   "name": "python",
   "nbconvert_exporter": "python",
   "pygments_lexer": "ipython3",
   "version": "3.9.11"
  }
 },
 "nbformat": 4,
 "nbformat_minor": 2
}
